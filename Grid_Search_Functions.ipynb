{
 "cells": [
  {
   "cell_type": "code",
   "execution_count": 1,
   "metadata": {},
   "outputs": [],
   "source": [
    "from sklearn.ensemble import ExtraTreesClassifier\n",
    "from sklearn.model_selection import GridSearchCV\n",
    "from sklearn.metrics import classification_report, mean_squared_error\n",
    "from sklearn.pipeline import Pipeline\n",
    "import time\n",
    "import numpy as np\n",
    "import random"
   ]
  },
  {
   "cell_type": "code",
   "execution_count": 2,
   "metadata": {},
   "outputs": [],
   "source": [
    "# set random seeds\n",
    "np.random.seed(0)\n",
    "random.seed(0)"
   ]
  },
  {
   "cell_type": "code",
   "execution_count": 8,
   "metadata": {},
   "outputs": [],
   "source": [
    "%run \"/Users/rileyfox/Code/Feature_Engineering/logger.py\""
   ]
  },
  {
   "cell_type": "code",
   "execution_count": 9,
   "metadata": {},
   "outputs": [],
   "source": [
    "def simple_grid_search(x_train, y_train, x_test, y_test, feature_engineering_pipeline):\n",
    "    '''\n",
    "    Helper function to grid search an ExtraTreesClassifier model \n",
    "    and print a classification report for the best parameter settings.\n",
    "    Best is the best cross-validated accuracy on the training set.\n",
    "    '''\n",
    "\n",
    "    params = {\n",
    "        'max_depth': [10, None],\n",
    "        'n_estimators': [10, 50, 100, 500],\n",
    "        'criterion': ['gini', 'entropy']\n",
    "    }\n",
    "\n",
    "    base_model = ExtraTreesClassifier()\n",
    "    \n",
    "    model_grid_search = GridSearchCV(base_model, param_grid=params, cv=3)  # cv is number of folds in stratified K fold\n",
    "    start_time = time.time()  # start time\n",
    "    if feature_engineering_pipeline:  # fit FE pipeline to training data and use it to transform test data\n",
    "        parsed_x_train = feature_engineering_pipeline.fit_transform(x_train, y_train)\n",
    "        parsed_x_test = feature_engineering_pipeline.transform(x_test)\n",
    "    else:\n",
    "        logger.info('No feature engineering pipeline specified, using inputs as is')\n",
    "        parsed_x_train = x_train\n",
    "        parsed_x_test = x_test\n",
    "    \n",
    "    parse_time = time.time()\n",
    "    logger.info(f'Parsing took {(parse_time - start_time):.2f} seconds')\n",
    "\n",
    "    model_grid_search.fit(parsed_x_train, y_train)\n",
    "    fit_time = time.time()\n",
    "    logger.info(f'Training took {(fit_time - start_time):.2f} seconds')\n",
    "\n",
    "    best_model = model_grid_search.best_estimator_\n",
    "\n",
    "    print(classification_report(y_true=y_test, y_pred=best_model.predict(parsed_x_test)))\n",
    "    end_time = time.time()\n",
    "    logger.info(f'Overall took {(end_time - start_time):.2f} seconds')\n",
    "\n",
    "    return best_model"
   ]
  },
  {
   "cell_type": "code",
   "execution_count": 10,
   "metadata": {},
   "outputs": [],
   "source": [
    "def advanced_grid_search(x_train, y_train, x_test, y_test, ml_pipeline, params, cv=3, include_probas=False, is_regression=False):\n",
    "    '''\n",
    "    Helper function to grid search a ML pipeline with feature engineering included.\n",
    "    Prints classification report for the best parameter settings.\n",
    "    Best is the best cross-validated accuracy on the training set.\n",
    "    '''\n",
    "\n",
    "    model_grid_search = GridSearchCV(ml_pipeline, param_grid=params, cv=cv, error_score=-1)\n",
    "    start_time = time.time()\n",
    "    \n",
    "    model_grid_search.fit(x_train, y_train)\n",
    "    \n",
    "    best_model = model_grid_search.best_estimator_\n",
    "\n",
    "    y_preds = best_model.predict(x_test)\n",
    "\n",
    "    if is_regression:\n",
    "        rmse = np.sqrt(mean_squared_error(y_pred=y_preds, y_true=test_set['pct_change_eod']))\n",
    "        logger.info(f'RMSE: {rmse:.5f}')\n",
    "    else:\n",
    "        print(classification_report(y_true=y_test, y_pred=y_preds))\n",
    "\n",
    "    logger.info(f'Best params: {model_grid_search.best_params_}')\n",
    "    end_time = time.time()\n",
    "    logger.info(f'Overall took {(start_time - end_time):f2} seconds')\n",
    "\n",
    "    if include_probas:\n",
    "        y_probas = best_model.predict_proba(x_test).max(axis=1)\n",
    "        return best_model, y_preds, y_probas\n",
    "\n",
    "    return best_model, y_preds"
   ]
  },
  {
   "cell_type": "code",
   "execution_count": null,
   "metadata": {},
   "outputs": [],
   "source": []
  }
 ],
 "metadata": {
  "kernelspec": {
   "display_name": "Python 3",
   "language": "python",
   "name": "python3"
  },
  "language_info": {
   "codemirror_mode": {
    "name": "ipython",
    "version": 3
   },
   "file_extension": ".py",
   "mimetype": "text/x-python",
   "name": "python",
   "nbconvert_exporter": "python",
   "pygments_lexer": "ipython3",
   "version": "3.11.1 (v3.11.1:a7a450f84a, Dec  6 2022, 15:24:06) [Clang 13.0.0 (clang-1300.0.29.30)]"
  },
  "orig_nbformat": 4,
  "vscode": {
   "interpreter": {
    "hash": "aee8b7b246df8f9039afb4144a1f6fd8d2ca17a180786b69acc140d282b71a49"
   }
  }
 },
 "nbformat": 4,
 "nbformat_minor": 2
}
