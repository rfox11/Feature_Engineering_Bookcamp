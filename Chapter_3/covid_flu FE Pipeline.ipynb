{
 "cells": [
  {
   "cell_type": "code",
   "execution_count": 1,
   "metadata": {},
   "outputs": [],
   "source": [
    "%run \"/Users/rileyfox/Code/Feature_Engineering/Grid_Search_Functions.ipynb\""
   ]
  },
  {
   "cell_type": "code",
   "execution_count": 2,
   "metadata": {},
   "outputs": [],
   "source": [
    "import pandas as pd\n",
    "import numpy as np\n",
    "from sklearn.model_selection import train_test_split\n",
    "from sklearn.preprocessing import FunctionTransformer, StandardScaler, PowerTransformer, KBinsDiscretizer\n",
    "from sklearn.pipeline import Pipeline, FeatureUnion\n",
    "from feature_engine.imputation import EndTailImputer\n",
    "from sklearn.feature_selection import mutual_info_classif, SelectKBest, chi2, SelectFromModel\n",
    "from sklearn.tree import DecisionTreeClassifier\n",
    "from sklearn.impute import SimpleImputer\n",
    "from Transformer_for_Risk_Factors import DummifyRiskFactor"
   ]
  },
  {
   "cell_type": "code",
   "execution_count": 3,
   "metadata": {},
   "outputs": [],
   "source": [
    "covid_flu = pd.read_csv('/Users/rileyfox/Code/Feature_Engineering/Chapter_3/covid_flu.csv')"
   ]
  },
  {
   "cell_type": "code",
   "execution_count": 4,
   "metadata": {},
   "outputs": [],
   "source": [
    "# make a Female binary feature instead of M/F sex\n",
    "covid_flu['Female'] = covid_flu['Sex'] == 'F'\n",
    "del covid_flu['Sex']\n",
    "\n",
    "# replace Yes/No with True/False\n",
    "covid_flu = covid_flu.replace({'Yes': True, 'No': False})\n",
    "\n",
    "# FluSymptoms feature\n",
    "flu_symptoms = [\n",
    "    'Diarrhea', 'Fever', 'Coughing', 'SoreThroat',\n",
    "    'NauseaVomitting', 'Fatigue'\n",
    "]\n",
    "covid_flu['FluSymptoms'] = covid_flu[flu_symptoms].sum(axis=1) >= 2\n",
    "\n",
    "# make age positive for box-cox\n",
    "covid_flu['Age'] = covid_flu['Age'] + .01"
   ]
  },
  {
   "cell_type": "code",
   "execution_count": 5,
   "metadata": {},
   "outputs": [],
   "source": [
    "X, y = covid_flu.drop(['Diagnosis'], axis=1), covid_flu['Diagnosis']\n",
    "x_train, x_test, y_train, y_test = train_test_split(X, y, stratify=y, random_state=0, test_size=.2)"
   ]
  },
  {
   "cell_type": "code",
   "execution_count": 6,
   "metadata": {},
   "outputs": [],
   "source": [
    "# vectorize risk factors using custom transformer\n",
    "risk_factor_pipeline = Pipeline(\n",
    "    [\n",
    "        ('select_and_parse_risk_factor', FunctionTransformer(lambda df: df['RiskFactors'])),\n",
    "        ('dummify', DummifyRiskFactor()),\n",
    "        ('tree_selector', SelectFromModel(max_features=20, estimator=DecisionTreeClassifier()))\n",
    "    ]\n",
    ")\n",
    "\n",
    "# deal with binary columns\n",
    "\n",
    "binary_features = [\n",
    "    'Female', 'GroundGlassOpacity', 'CTscanResults',\n",
    "    'Diarrhea', 'Fever', 'FluSymptoms', 'Coughing',\n",
    "    'SoreThroat', 'NauseaVomitting', 'Fatigue', 'InitialPCRDiagnosis'\n",
    "]\n",
    "\n",
    "binary_pipeline = Pipeline(\n",
    "    [\n",
    "        ('select_categorical_features', FunctionTransformer(lambda df: df[binary_features])),\n",
    "        ('fillna', SimpleImputer(strategy='constant', fill_value=False))\n",
    "    ]\n",
    ")\n",
    "\n",
    "# deal with numerical columns\n",
    "\n",
    "numeric_types = ['float16', 'float32', 'float64', 'int16', 'int32', 'int64']  # pandas numeric types\n",
    "\n",
    "numerical_columns = covid_flu.select_dtypes(include=numeric_types).columns.tolist()\n",
    "\n",
    "numerical_pipeline = Pipeline(\n",
    "    [\n",
    "        ('select_numerical_features', FunctionTransformer(lambda df: df[numerical_columns])),\n",
    "        ('Box-Cox', PowerTransformer('box-cox', standardize=True)),\n",
    "        ('turn_into_df', FunctionTransformer(lambda matrix: pd.DataFrame(matrix))),\n",
    "        ('end_of_tail', EndTailImputer(imputation_method='gaussian')),\n",
    "        ('ordinal_bins', KBinsDiscretizer(n_bins=10, encode='ordinal', strategy='kmeans'))\n",
    "    ]\n",
    ")"
   ]
  },
  {
   "cell_type": "code",
   "execution_count": 7,
   "metadata": {},
   "outputs": [
    {
     "name": "stderr",
     "output_type": "stream",
     "text": [
      "/Library/Frameworks/Python.framework/Versions/3.11/lib/python3.11/site-packages/sklearn/preprocessing/_discretization.py:279: UserWarning: Bins whose width are too small (i.e., <= 1e-8) in feature 5 are removed. Consider decreasing the number of bins.\n",
      "  warnings.warn(\n",
      "/Library/Frameworks/Python.framework/Versions/3.11/lib/python3.11/site-packages/sklearn/preprocessing/_discretization.py:279: UserWarning: Bins whose width are too small (i.e., <= 1e-8) in feature 5 are removed. Consider decreasing the number of bins.\n",
      "  warnings.warn(\n",
      "/Library/Frameworks/Python.framework/Versions/3.11/lib/python3.11/site-packages/sklearn/preprocessing/_label.py:895: UserWarning: unknown class(es) ['atopic dermatitis and repetitive respiratory infections', 'begin tumor (removed)', 'chronic liver disorder', 'chronic neurological disorders', 'fatty liver', 'hypertention', 'lung disease', 'pneumomediastinum and subcutaneous emphysema', 'rheumatoid arthritis'] will be ignored\n",
      "  warnings.warn(\n",
      "2023-01-09 19:29:15,849 - Feature Engineering Log - Parsing took 0.08 seconds\n",
      "2023-01-09 19:29:24,581 - Feature Engineering Log - Training took 8.81 seconds\n",
      "2023-01-09 19:29:24,604 - Feature Engineering Log - Overall took 8.83 seconds\n"
     ]
    },
    {
     "name": "stdout",
     "output_type": "stream",
     "text": [
      "              precision    recall  f1-score   support\n",
      "\n",
      "     COVID19       0.84      0.84      0.84        82\n",
      "        H1N1       0.94      0.94      0.94       215\n",
      "\n",
      "    accuracy                           0.91       297\n",
      "   macro avg       0.89      0.89      0.89       297\n",
      "weighted avg       0.91      0.91      0.91       297\n",
      "\n"
     ]
    }
   ],
   "source": [
    "# concat all pipelines\n",
    "simple_fe = FeatureUnion([\n",
    "    ('risk_factors', risk_factor_pipeline),\n",
    "    ('binary_pipeline', binary_pipeline),\n",
    "    ('numerical_pipeline', numerical_pipeline)\n",
    "])\n",
    "\n",
    "simple_fe.fit_transform(x_train, y_train).shape\n",
    "\n",
    "best_model = simple_grid_search(x_train, y_train, x_test, y_test, simple_fe)"
   ]
  },
  {
   "cell_type": "code",
   "execution_count": 8,
   "metadata": {},
   "outputs": [
    {
     "data": {
      "text/plain": [
       "[('risk_factors',\n",
       "  Pipeline(steps=[('select_and_parse_risk_factor',\n",
       "                   FunctionTransformer(func=<function <lambda> at 0x13b5ec400>)),\n",
       "                  ('dummify', DummifyRiskFactor()),\n",
       "                  ('tree_selector',\n",
       "                   SelectFromModel(estimator=DecisionTreeClassifier(),\n",
       "                                   max_features=20))])),\n",
       " ('binary_pipeline',\n",
       "  Pipeline(steps=[('select_categorical_features',\n",
       "                   FunctionTransformer(func=<function <lambda> at 0x13b5ec540>)),\n",
       "                  ('fillna',\n",
       "                   SimpleImputer(fill_value=False, strategy='constant'))])),\n",
       " ('numerical_pipeline',\n",
       "  Pipeline(steps=[('select_numerical_features',\n",
       "                   FunctionTransformer(func=<function <lambda> at 0x105128c20>)),\n",
       "                  ('Box-Cox', PowerTransformer(method='box-cox')),\n",
       "                  ('turn_into_df',\n",
       "                   FunctionTransformer(func=<function <lambda> at 0x105128ea0>)),\n",
       "                  ('end_of_tail', EndTailImputer()),\n",
       "                  ('ordinal_bins',\n",
       "                   KBinsDiscretizer(encode='ordinal', n_bins=10,\n",
       "                                    strategy='kmeans'))]))]"
      ]
     },
     "execution_count": 8,
     "metadata": {},
     "output_type": "execute_result"
    }
   ],
   "source": [
    "simple_fe.transformer_list"
   ]
  },
  {
   "cell_type": "code",
   "execution_count": null,
   "metadata": {},
   "outputs": [],
   "source": []
  }
 ],
 "metadata": {
  "kernelspec": {
   "display_name": "Python 3",
   "language": "python",
   "name": "python3"
  },
  "language_info": {
   "codemirror_mode": {
    "name": "ipython",
    "version": 3
   },
   "file_extension": ".py",
   "mimetype": "text/x-python",
   "name": "python",
   "nbconvert_exporter": "python",
   "pygments_lexer": "ipython3",
   "version": "3.11.1"
  },
  "orig_nbformat": 4,
  "vscode": {
   "interpreter": {
    "hash": "aee8b7b246df8f9039afb4144a1f6fd8d2ca17a180786b69acc140d282b71a49"
   }
  }
 },
 "nbformat": 4,
 "nbformat_minor": 2
}
